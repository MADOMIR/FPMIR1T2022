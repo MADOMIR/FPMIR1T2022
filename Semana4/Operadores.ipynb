{
 "cells": [
  {
   "cell_type": "markdown",
   "metadata": {},
   "source": [
    "### Operadores lógicos"
   ]
  },
  {
   "cell_type": "code",
   "execution_count": 4,
   "metadata": {},
   "outputs": [
    {
     "name": "stdout",
     "output_type": "stream",
     "text": [
      "Ambos numero 2 y 2 son pares: True\n",
      "Al menos uno de los numero 2 y/o 2 es par: True\n",
      "El NOT de ambos numero 2 y 2 son pares: False\n"
     ]
    }
   ],
   "source": [
    "Num1=int(input(\"ingrese numero 1: \"))\n",
    "Num2=int(input(\"ingrese numero 2: \"))\n",
    "#Num1%2 regresa el residuo de una división\n",
    "print(\"Ambos numero\",Num1,\"y\",Num2,\"son pares:\",((Num1%2==0)and(Num2%2==0)))\n",
    "print(\"Al menos uno de los numero\",Num1,\"y/o\", Num2,\"es par:\",((Num1%2==0)or(Num2%2==0)))\n",
    "print(\"El NOT de ambos numero\" , Num1, \"y\", Num2,\"son pares:\",not((Num1%2==0)and(Num2%2==0)) )"
   ]
  },
  {
   "cell_type": "markdown",
   "metadata": {},
   "source": [
    "### Operadores de identidad"
   ]
  },
  {
   "cell_type": "code",
   "execution_count": 6,
   "metadata": {},
   "outputs": [
    {
     "name": "stdout",
     "output_type": "stream",
     "text": [
      "La comparacion is:  False\n"
     ]
    }
   ],
   "source": [
    "Num1=int(input(\"ingrese numero 1: \"))\n",
    "Num2=int(input(\"ingrese numero 2: \"))\n",
    "\n",
    "\"\"\"lista1=list(range(1,Num1+1))\n",
    "lista2=list(range(1,Num2+1))\n",
    "\"\"\"\n",
    "print(\"La comparacion is: \",(Num1 is Num2))"
   ]
  },
  {
   "cell_type": "markdown",
   "metadata": {},
   "source": [
    "### Operadores de membresía"
   ]
  },
  {
   "cell_type": "code",
   "execution_count": 11,
   "metadata": {},
   "outputs": [
    {
     "name": "stdout",
     "output_type": "stream",
     "text": [
      "El numero 2 pertenece a la lista1:  True\n",
      "El numero 2 No pertenece a la lista1:  False\n"
     ]
    }
   ],
   "source": [
    "Num1=int(input(\"ingrese numero 1: \"))\n",
    "Num2=int(input(\"ingrese numero 2: \"))\n",
    "\n",
    "lista1=list(range(1,Num1+1))\n",
    "\n",
    "print(\"El numero\", Num2, \"pertenece a la lista1: \", (Num2 in lista1))\n",
    "print(\"El numero\",Num2,\"No pertenece a la lista1: \", (Num2 not in lista1))"
   ]
  },
  {
   "cell_type": "markdown",
   "metadata": {},
   "source": []
  }
 ],
 "metadata": {
  "interpreter": {
   "hash": "33c763318192ea432726bc2390ca6b3e159b486365da49b1f51fe69fe61e5096"
  },
  "kernelspec": {
   "display_name": "Python 3.9.10 64-bit (windows store)",
   "language": "python",
   "name": "python3"
  },
  "language_info": {
   "codemirror_mode": {
    "name": "ipython",
    "version": 3
   },
   "file_extension": ".py",
   "mimetype": "text/x-python",
   "name": "python",
   "nbconvert_exporter": "python",
   "pygments_lexer": "ipython3",
   "version": "3.9.10"
  },
  "orig_nbformat": 4
 },
 "nbformat": 4,
 "nbformat_minor": 2
}
